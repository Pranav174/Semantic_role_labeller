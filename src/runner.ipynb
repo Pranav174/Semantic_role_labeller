{
 "cells": [
  {
   "cell_type": "code",
   "execution_count": 30,
   "metadata": {},
   "outputs": [],
   "source": [
    "import pickle\n",
    "import numpy as np\n",
    "import pandas as pd\n",
    "from sklearn.preprocessing import LabelEncoder\n",
    "from sklearn.preprocessing import OneHotEncoder\n",
    "from keras.models import Sequential \n",
    "from keras.layers import Dense, Activation\n",
    "from sklearn.model_selection import train_test_split\n",
    "from tqdm import tqdm\n",
    "import tensorflow as tf\n",
    "import seaborn as sns\n",
    "import matplotlib.pyplot as plt\n",
    "from keras import backend as K"
   ]
  },
  {
   "cell_type": "code",
   "execution_count": 31,
   "metadata": {},
   "outputs": [],
   "source": [
    "Sentences = []\n",
    "with open(\"processed_data.dat\", \"rb\") as f:\n",
    "    Sentences = pickle.load(f)"
   ]
  },
  {
   "cell_type": "code",
   "execution_count": 32,
   "metadata": {},
   "outputs": [],
   "source": [
    "attributes = ['is_argument', 'arg_class', 'd_rel', 'phrase_type', 'predicate_pos', 'drel_pos']\n",
    "dt = pd.DataFrame(columns = attributes)"
   ]
  },
  {
   "cell_type": "code",
   "execution_count": 33,
   "metadata": {
    "scrolled": false
   },
   "outputs": [
    {
     "name": "stderr",
     "output_type": "stream",
     "text": [
      "100%|██████████| 6796/6796 [00:00<00:00, 32559.33it/s]\n"
     ]
    },
    {
     "data": {
      "text/html": [
       "<div>\n",
       "<style scoped>\n",
       "    .dataframe tbody tr th:only-of-type {\n",
       "        vertical-align: middle;\n",
       "    }\n",
       "\n",
       "    .dataframe tbody tr th {\n",
       "        vertical-align: top;\n",
       "    }\n",
       "\n",
       "    .dataframe thead th {\n",
       "        text-align: right;\n",
       "    }\n",
       "</style>\n",
       "<table border=\"1\" class=\"dataframe\">\n",
       "  <thead>\n",
       "    <tr style=\"text-align: right;\">\n",
       "      <th></th>\n",
       "      <th>is_argument</th>\n",
       "      <th>arg_class</th>\n",
       "      <th>d_rel</th>\n",
       "      <th>phrase_type</th>\n",
       "      <th>predicate_pos</th>\n",
       "      <th>drel_pos</th>\n",
       "    </tr>\n",
       "  </thead>\n",
       "  <tbody>\n",
       "    <tr>\n",
       "      <th>0</th>\n",
       "      <td>False</td>\n",
       "      <td>NaN</td>\n",
       "      <td>r6</td>\n",
       "      <td>NP</td>\n",
       "      <td>0</td>\n",
       "      <td>r6:0</td>\n",
       "    </tr>\n",
       "    <tr>\n",
       "      <th>1</th>\n",
       "      <td>False</td>\n",
       "      <td>NaN</td>\n",
       "      <td>k1</td>\n",
       "      <td>NP</td>\n",
       "      <td>0</td>\n",
       "      <td>k1:0</td>\n",
       "    </tr>\n",
       "    <tr>\n",
       "      <th>2</th>\n",
       "      <td>False</td>\n",
       "      <td>NaN</td>\n",
       "      <td>k7</td>\n",
       "      <td>NP</td>\n",
       "      <td>0</td>\n",
       "      <td>k7:0</td>\n",
       "    </tr>\n",
       "    <tr>\n",
       "      <th>3</th>\n",
       "      <td>False</td>\n",
       "      <td>NaN</td>\n",
       "      <td>root</td>\n",
       "      <td>VGF</td>\n",
       "      <td>0</td>\n",
       "      <td>root:0</td>\n",
       "    </tr>\n",
       "    <tr>\n",
       "      <th>4</th>\n",
       "      <td>False</td>\n",
       "      <td>NaN</td>\n",
       "      <td>k2</td>\n",
       "      <td>CCP</td>\n",
       "      <td>0</td>\n",
       "      <td>k2:0</td>\n",
       "    </tr>\n",
       "    <tr>\n",
       "      <th>...</th>\n",
       "      <td>...</td>\n",
       "      <td>...</td>\n",
       "      <td>...</td>\n",
       "      <td>...</td>\n",
       "      <td>...</td>\n",
       "      <td>...</td>\n",
       "    </tr>\n",
       "    <tr>\n",
       "      <th>101561</th>\n",
       "      <td>True</td>\n",
       "      <td>ARG2-LOC</td>\n",
       "      <td>k7p</td>\n",
       "      <td>NP</td>\n",
       "      <td>VGF</td>\n",
       "      <td>k7p:VGF</td>\n",
       "    </tr>\n",
       "    <tr>\n",
       "      <th>101562</th>\n",
       "      <td>False</td>\n",
       "      <td>NaN</td>\n",
       "      <td>nmod</td>\n",
       "      <td>NP</td>\n",
       "      <td>0</td>\n",
       "      <td>nmod:0</td>\n",
       "    </tr>\n",
       "    <tr>\n",
       "      <th>101563</th>\n",
       "      <td>False</td>\n",
       "      <td>NaN</td>\n",
       "      <td>r6</td>\n",
       "      <td>NP</td>\n",
       "      <td>0</td>\n",
       "      <td>r6:0</td>\n",
       "    </tr>\n",
       "    <tr>\n",
       "      <th>101564</th>\n",
       "      <td>True</td>\n",
       "      <td>ARG1</td>\n",
       "      <td>k2</td>\n",
       "      <td>NP</td>\n",
       "      <td>VGF</td>\n",
       "      <td>k2:VGF</td>\n",
       "    </tr>\n",
       "    <tr>\n",
       "      <th>101565</th>\n",
       "      <td>False</td>\n",
       "      <td>NaN</td>\n",
       "      <td>root</td>\n",
       "      <td>VGF</td>\n",
       "      <td>0</td>\n",
       "      <td>root:0</td>\n",
       "    </tr>\n",
       "  </tbody>\n",
       "</table>\n",
       "<p>101566 rows × 6 columns</p>\n",
       "</div>"
      ],
      "text/plain": [
       "       is_argument arg_class d_rel phrase_type predicate_pos drel_pos\n",
       "0            False       NaN    r6          NP             0     r6:0\n",
       "1            False       NaN    k1          NP             0     k1:0\n",
       "2            False       NaN    k7          NP             0     k7:0\n",
       "3            False       NaN  root         VGF             0   root:0\n",
       "4            False       NaN    k2         CCP             0     k2:0\n",
       "...            ...       ...   ...         ...           ...      ...\n",
       "101561        True  ARG2-LOC   k7p          NP           VGF  k7p:VGF\n",
       "101562       False       NaN  nmod          NP             0   nmod:0\n",
       "101563       False       NaN    r6          NP             0     r6:0\n",
       "101564        True      ARG1    k2          NP           VGF   k2:VGF\n",
       "101565       False       NaN  root         VGF             0   root:0\n",
       "\n",
       "[101566 rows x 6 columns]"
      ]
     },
     "execution_count": 33,
     "metadata": {},
     "output_type": "execute_result"
    }
   ],
   "source": [
    "all_data = {\n",
    "    'is_argument' : [],\n",
    "    'arg_class' : [],\n",
    "    'd_rel' : [],\n",
    "    'phrase_type' : [],\n",
    "    'predicate_pos' : [],\n",
    "    'drel_pos': []\n",
    "}\n",
    "for sentence in tqdm(Sentences):\n",
    "    for chunk in sentence.nodeList:\n",
    "#         print(chunk.__dict__)\n",
    "#         data_entry = dict()\n",
    "        if chunk.parentPB != '0':\n",
    "            all_data['is_argument'].append(True)\n",
    "            all_data['arg_class'].append(chunk.parentPBRelation)\n",
    "        else:\n",
    "            all_data['is_argument'].append(False)\n",
    "            all_data['arg_class'].append(np.NaN)\n",
    "        all_data['d_rel'].append(chunk.parentRelation)\n",
    "        all_data['phrase_type'].append(chunk.type)\n",
    "        all_data['predicate_pos'].append(chunk.parentPB)\n",
    "        all_data['drel_pos'].append(f\"{chunk.parentRelation}:{chunk.parentPB}\")\n",
    "#         print(data_entry)\n",
    "dt = dt.append(pd.DataFrame(all_data))\n",
    "dt"
   ]
  },
  {
   "cell_type": "markdown",
   "metadata": {},
   "source": [
    "### Argument Identification"
   ]
  },
  {
   "cell_type": "code",
   "execution_count": 34,
   "metadata": {},
   "outputs": [
    {
     "name": "stdout",
     "output_type": "stream",
     "text": [
      "Train (81252, 2) (81252, 1)\n",
      "Test (20314, 2) (20314, 1)\n"
     ]
    }
   ],
   "source": [
    "dataset = dt.values\n",
    "X = dataset[:, 2:-2]\n",
    "y = dataset[:,0]\n",
    "X = X.astype(str)\n",
    "y = y.reshape((len(y), 1))\n",
    "\n",
    "X_train, X_test, y_train, y_test = train_test_split(X, y, test_size=0.2, random_state=1)\n",
    "print('Train', X_train.shape, y_train.shape)\n",
    "print('Test', X_test.shape, y_test.shape)"
   ]
  },
  {
   "cell_type": "code",
   "execution_count": 35,
   "metadata": {},
   "outputs": [
    {
     "name": "stdout",
     "output_type": "stream",
     "text": [
      "Train (81252, 88) (81252,)\n",
      "Test (20314, 88) (20314,)\n"
     ]
    },
    {
     "name": "stderr",
     "output_type": "stream",
     "text": [
      "/home/pranav_pro/.local/lib/python3.6/site-packages/sklearn/preprocessing/label.py:219: DataConversionWarning: A column-vector y was passed when a 1d array was expected. Please change the shape of y to (n_samples, ), for example using ravel().\n",
      "  y = column_or_1d(y, warn=True)\n",
      "/home/pranav_pro/.local/lib/python3.6/site-packages/sklearn/preprocessing/label.py:252: DataConversionWarning: A column-vector y was passed when a 1d array was expected. Please change the shape of y to (n_samples, ), for example using ravel().\n",
      "  y = column_or_1d(y, warn=True)\n"
     ]
    }
   ],
   "source": [
    "# prepare input data\n",
    "def prepare_inputs(X,X_train, X_test):\n",
    "    ohe = OneHotEncoder()\n",
    "    ohe.fit(X)\n",
    "    X_train_enc = ohe.transform(X_train)\n",
    "    X_test_enc = ohe.transform(X_test)\n",
    "    return X_train_enc, X_test_enc\n",
    " \n",
    "# prepare target\n",
    "def prepare_targets(y_train, y_test):\n",
    "    le = LabelEncoder()\n",
    "    le.fit(y_train)\n",
    "    y_train_enc = le.transform(y_train)\n",
    "    y_test_enc = le.transform(y_test)\n",
    "    return y_train_enc, y_test_enc\n",
    "\n",
    "X_train_enc, X_test_enc = prepare_inputs(X,X_train, X_test)\n",
    "y_train_enc, y_test_enc = prepare_targets(y_train, y_test)\n",
    "print('Train', X_train_enc.shape, y_train_enc.shape)\n",
    "print('Test', X_test_enc.shape, y_test_enc.shape)"
   ]
  },
  {
   "cell_type": "code",
   "execution_count": 36,
   "metadata": {
    "scrolled": true
   },
   "outputs": [
    {
     "name": "stdout",
     "output_type": "stream",
     "text": [
      "Epoch 1/15\n",
      " - 7s - loss: 0.4180 - accuracy: 0.7677\n",
      "Epoch 2/15\n",
      " - 6s - loss: 0.3987 - accuracy: 0.7794\n",
      "Epoch 3/15\n",
      " - 6s - loss: 0.3985 - accuracy: 0.7792\n",
      "Epoch 4/15\n",
      " - 7s - loss: 0.3980 - accuracy: 0.7798\n",
      "Epoch 5/15\n",
      " - 6s - loss: 0.3981 - accuracy: 0.7797\n",
      "Epoch 6/15\n",
      " - 6s - loss: 0.3979 - accuracy: 0.7795\n",
      "Epoch 7/15\n",
      " - 6s - loss: 0.3976 - accuracy: 0.7799\n",
      "Epoch 8/15\n",
      " - 6s - loss: 0.3977 - accuracy: 0.7793\n",
      "Epoch 9/15\n",
      " - 7s - loss: 0.3977 - accuracy: 0.7802\n",
      "Epoch 10/15\n",
      " - 7s - loss: 0.3975 - accuracy: 0.7795\n",
      "Epoch 11/15\n",
      " - 7s - loss: 0.3975 - accuracy: 0.7798\n",
      "Epoch 12/15\n",
      " - 6s - loss: 0.3975 - accuracy: 0.7798\n",
      "Epoch 13/15\n",
      " - 7s - loss: 0.3974 - accuracy: 0.7797\n",
      "Epoch 14/15\n",
      " - 6s - loss: 0.3975 - accuracy: 0.7799\n",
      "Epoch 15/15\n",
      " - 7s - loss: 0.3973 - accuracy: 0.7795\n",
      "Accuracy: 77.50\n",
      "Model: \"sequential_3\"\n",
      "_________________________________________________________________\n",
      "Layer (type)                 Output Shape              Param #   \n",
      "=================================================================\n",
      "dense_5 (Dense)              (None, 10)                890       \n",
      "_________________________________________________________________\n",
      "dense_6 (Dense)              (None, 1)                 11        \n",
      "=================================================================\n",
      "Total params: 901\n",
      "Trainable params: 901\n",
      "Non-trainable params: 0\n",
      "_________________________________________________________________\n",
      "None\n"
     ]
    }
   ],
   "source": [
    "# model = Sequential() \n",
    "# model.add(Dense(2, input_dim=input_dim, activation='softmax'))\n",
    "model = Sequential()\n",
    "model.add(Dense(10, input_dim=X_train_enc.shape[1], activation='relu', kernel_initializer='he_normal'))\n",
    "model.add(Dense(1, activation='sigmoid'))\n",
    "# compile the keras model\n",
    "model.compile(loss='binary_crossentropy', optimizer='adam', metrics=['accuracy'])\n",
    "# fit the keras model on the dataset\n",
    "model.fit(X_train_enc, y_train_enc, epochs=15, batch_size=16, verbose=2)\n",
    "# evaluate the keras model\n",
    "_, accuracy = model.evaluate(X_test_enc, y_test_enc, verbose=0)\n",
    "print('Accuracy: %.2f' % (accuracy*100))\n",
    "print(model.summary())"
   ]
  },
  {
   "cell_type": "markdown",
   "metadata": {},
   "source": [
    "### Semantic Role Classifier"
   ]
  },
  {
   "cell_type": "code",
   "execution_count": 37,
   "metadata": {},
   "outputs": [
    {
     "name": "stdout",
     "output_type": "stream",
     "text": [
      "Train (26360, 4) (26360, 1)\n",
      "Test (6591, 4) (6591, 1)\n"
     ]
    }
   ],
   "source": [
    "dt_arguments =  dt[dt['arg_class'].notnull()]\n",
    "dataset = dt_arguments.values\n",
    "X = dataset[:, 2:]\n",
    "y = dataset[:,1]\n",
    "X = X.astype(str)\n",
    "y = y.reshape((len(y), 1))\n",
    "\n",
    "X_train, X_test, y_train, y_test = train_test_split(X, y, test_size=0.2, random_state=1)\n",
    "print('Train', X_train.shape, y_train.shape)\n",
    "print('Test', X_test.shape, y_test.shape)"
   ]
  },
  {
   "cell_type": "code",
   "execution_count": 38,
   "metadata": {},
   "outputs": [
    {
     "name": "stdout",
     "output_type": "stream",
     "text": [
      "Train (26360, 1192) (26360, 22)\n",
      "Test (6591, 1192) (6591, 22)\n"
     ]
    }
   ],
   "source": [
    "X_train_enc, X_test_enc = prepare_inputs(X,X_train, X_test)\n",
    "y_train_enc, y_test_enc = prepare_inputs(y,y_train, y_test)\n",
    "print('Train', X_train_enc.shape, y_train_enc.shape)\n",
    "print('Test', X_test_enc.shape, y_test_enc.shape)"
   ]
  },
  {
   "cell_type": "code",
   "execution_count": 39,
   "metadata": {},
   "outputs": [],
   "source": [
    "def recall_m(y_true, y_pred):\n",
    "    true_positives = K.sum(K.round(K.clip(y_true * y_pred, 0, 1)))\n",
    "    possible_positives = K.sum(K.round(K.clip(y_true, 0, 1)))\n",
    "    recall = true_positives / (possible_positives + K.epsilon())\n",
    "    return recall\n",
    "\n",
    "def precision_m(y_true, y_pred):\n",
    "    true_positives = K.sum(K.round(K.clip(y_true * y_pred, 0, 1)))\n",
    "    predicted_positives = K.sum(K.round(K.clip(y_pred, 0, 1)))\n",
    "    precision = true_positives / (predicted_positives + K.epsilon())\n",
    "    return precision\n",
    "\n",
    "def f1_m(y_true, y_pred):\n",
    "    precision = precision_m(y_true, y_pred)\n",
    "    recall = recall_m(y_true, y_pred)\n",
    "    return 2*((precision*recall)/(precision+recall+K.epsilon()))"
   ]
  },
  {
   "cell_type": "code",
   "execution_count": 40,
   "metadata": {
    "scrolled": true
   },
   "outputs": [
    {
     "name": "stdout",
     "output_type": "stream",
     "text": [
      "Epoch 1/20\n",
      " - 3s - loss: 1.2088 - accuracy: 0.6753 - recall_m: 0.4906 - f1_m: 0.5719 - precision_m: 0.7522\n",
      "Epoch 2/20\n",
      " - 3s - loss: 0.6425 - accuracy: 0.8206 - recall_m: 0.7834 - f1_m: 0.8143 - precision_m: 0.8506\n",
      "Epoch 3/20\n",
      " - 7s - loss: 0.5860 - accuracy: 0.8257 - recall_m: 0.8003 - f1_m: 0.8228 - precision_m: 0.8485\n",
      "Epoch 4/20\n",
      " - 3s - loss: 0.5602 - accuracy: 0.8302 - recall_m: 0.8059 - f1_m: 0.8266 - precision_m: 0.8501\n",
      "Epoch 5/20\n",
      " - 4s - loss: 0.5453 - accuracy: 0.8330 - recall_m: 0.8129 - f1_m: 0.8302 - precision_m: 0.8496\n",
      "Epoch 6/20\n",
      " - 4s - loss: 0.5357 - accuracy: 0.8338 - recall_m: 0.8128 - f1_m: 0.8315 - precision_m: 0.8526\n",
      "Epoch 7/20\n",
      " - 5s - loss: 0.5286 - accuracy: 0.8325 - recall_m: 0.8148 - f1_m: 0.8310 - precision_m: 0.8492\n",
      "Epoch 8/20\n",
      " - 4s - loss: 0.5227 - accuracy: 0.8340 - recall_m: 0.8156 - f1_m: 0.8321 - precision_m: 0.8506\n",
      "Epoch 9/20\n",
      " - 3s - loss: 0.5182 - accuracy: 0.8356 - recall_m: 0.8180 - f1_m: 0.8336 - precision_m: 0.8511\n",
      "Epoch 10/20\n",
      " - 3s - loss: 0.5136 - accuracy: 0.8354 - recall_m: 0.8167 - f1_m: 0.8337 - precision_m: 0.8528\n",
      "Epoch 11/20\n",
      " - 3s - loss: 0.5106 - accuracy: 0.8349 - recall_m: 0.8184 - f1_m: 0.8335 - precision_m: 0.8504\n",
      "Epoch 12/20\n",
      " - 3s - loss: 0.5073 - accuracy: 0.8374 - recall_m: 0.8213 - f1_m: 0.8352 - precision_m: 0.8508\n",
      "Epoch 13/20\n",
      " - 3s - loss: 0.5046 - accuracy: 0.8368 - recall_m: 0.8199 - f1_m: 0.8349 - precision_m: 0.8518\n",
      "Epoch 14/20\n",
      " - 3s - loss: 0.5022 - accuracy: 0.8382 - recall_m: 0.8213 - f1_m: 0.8359 - precision_m: 0.8522\n",
      "Epoch 15/20\n",
      " - 3s - loss: 0.5002 - accuracy: 0.8376 - recall_m: 0.8198 - f1_m: 0.8348 - precision_m: 0.8515\n",
      "Epoch 16/20\n",
      " - 3s - loss: 0.4985 - accuracy: 0.8382 - recall_m: 0.8222 - f1_m: 0.8360 - precision_m: 0.8515\n",
      "Epoch 17/20\n",
      " - 3s - loss: 0.4971 - accuracy: 0.8371 - recall_m: 0.8213 - f1_m: 0.8352 - precision_m: 0.8508\n",
      "Epoch 18/20\n",
      " - 8s - loss: 0.4952 - accuracy: 0.8379 - recall_m: 0.8228 - f1_m: 0.8367 - precision_m: 0.8522\n",
      "Epoch 19/20\n",
      " - 4s - loss: 0.4936 - accuracy: 0.8380 - recall_m: 0.8214 - f1_m: 0.8355 - precision_m: 0.8512\n",
      "Epoch 20/20\n",
      " - 6s - loss: 0.4926 - accuracy: 0.8379 - recall_m: 0.8224 - f1_m: 0.8366 - precision_m: 0.8525\n"
     ]
    },
    {
     "data": {
      "text/plain": [
       "<keras.callbacks.callbacks.History at 0x7f9530d44e80>"
      ]
     },
     "execution_count": 40,
     "metadata": {},
     "output_type": "execute_result"
    }
   ],
   "source": [
    "model2 = Sequential()\n",
    "model2.add(Dense(10, input_dim=X_train_enc.shape[1], activation='relu', kernel_initializer='he_normal'))\n",
    "model2.add(Dense(y_train_enc.shape[1], activation='softmax'))\n",
    "# compile the keras model\n",
    "model2.compile(loss='categorical_crossentropy', optimizer='adam', metrics=['accuracy', recall_m, f1_m, precision_m])\n",
    "# fit the keras model on the dataset\n",
    "model2.fit(X_train_enc, y_train_enc, epochs=20, batch_size=16, verbose=2)"
   ]
  },
  {
   "cell_type": "markdown",
   "metadata": {},
   "source": [
    "## Results"
   ]
  },
  {
   "cell_type": "code",
   "execution_count": 41,
   "metadata": {},
   "outputs": [
    {
     "name": "stderr",
     "output_type": "stream",
     "text": [
      "/home/pranav_pro/.local/lib/python3.6/site-packages/sklearn/preprocessing/label.py:219: DataConversionWarning: A column-vector y was passed when a 1d array was expected. Please change the shape of y to (n_samples, ), for example using ravel().\n",
      "  y = column_or_1d(y, warn=True)\n",
      "/home/pranav_pro/.local/lib/python3.6/site-packages/sklearn/preprocessing/label.py:252: DataConversionWarning: A column-vector y was passed when a 1d array was expected. Please change the shape of y to (n_samples, ), for example using ravel().\n",
      "  y = column_or_1d(y, warn=True)\n"
     ]
    },
    {
     "name": "stdout",
     "output_type": "stream",
     "text": [
      "Confusion Matrix:\n"
     ]
    },
    {
     "data": {
      "image/png": "[encoded data removed]",
      "text/plain": [
       "<Figure size 1440x1080 with 2 Axes>"
      ]
     },
     "metadata": {},
     "output_type": "display_data"
    }
   ],
   "source": [
    "# Confusion Matrix\n",
    "\n",
    "y_pred_enc = model2.predict_classes(X_test_enc)\n",
    "\n",
    "le = LabelEncoder()\n",
    "le.fit(y_train)\n",
    "y_test_a = le.transform(y_test)\n",
    "labels = le.inverse_transform([i for i in range(21)])\n",
    "\n",
    "con_mat = tf.math.confusion_matrix(labels=y_test_a, predictions=y_pred_enc)\n",
    "with tf.Session():\n",
    "    con_mat = tf.Tensor.eval(con_mat,feed_dict=None, session=None)\n",
    "plt.subplots(figsize=(20,15))\n",
    "sns.set()\n",
    "confusion_matrix = sns.heatmap(con_mat, annot=True, xticklabels=labels, yticklabels=labels, fmt='g')\n",
    "print(\"Confusion Matrix:\")"
   ]
  },
  {
   "cell_type": "code",
   "execution_count": 42,
   "metadata": {},
   "outputs": [
    {
     "name": "stdout",
     "output_type": "stream",
     "text": [
      "Scores:\n",
      "Accuracy: 0.8329540491104126\n",
      "Precision: 0.8433751463890076\n",
      "Recall: 0.8247631788253784\n",
      "F1-score: 0.8338347673416138\n",
      "Loss: 0.5781461311623787\n",
      "\n",
      "Model: \"sequential_4\"\n",
      "_________________________________________________________________\n",
      "Layer (type)                 Output Shape              Param #   \n",
      "=================================================================\n",
      "dense_7 (Dense)              (None, 10)                11930     \n",
      "_________________________________________________________________\n",
      "dense_8 (Dense)              (None, 22)                242       \n",
      "=================================================================\n",
      "Total params: 12,172\n",
      "Trainable params: 12,172\n",
      "Non-trainable params: 0\n",
      "_________________________________________________________________\n",
      "None\n"
     ]
    }
   ],
   "source": [
    "loss, accuracy, recall, f1_score, precision = model2.evaluate(X_test_enc, y_test_enc, verbose=0)\n",
    "print(\"Scores:\")\n",
    "print(f\"Accuracy: {accuracy}\\nPrecision: {precision}\\nRecall: {recall}\\nF1-score: {f1_score}\\nLoss: {loss}\\n\")\n",
    "print(model2.summary())"
   ]
  },
  {
   "cell_type": "code",
   "execution_count": 43,
   "metadata": {},
   "outputs": [],
   "source": [
    "!mkdir -p saved_models\n",
    "model.save('saved_models/identification_model')\n",
    "model2.save('saved_models/classification_model')"
   ]
  }
 ],
 "metadata": {
  "kernelspec": {
   "display_name": "Python 3",
   "language": "python",
   "name": "python3"
  },
  "language_info": {
   "codemirror_mode": {
    "name": "ipython",
    "version": 3
   },
   "file_extension": ".py",
   "mimetype": "text/x-python",
   "name": "python",
   "nbconvert_exporter": "python",
   "pygments_lexer": "ipython3",
   "version": "3.6.9"
  }
 },
 "nbformat": 4,
 "nbformat_minor": 2
}
