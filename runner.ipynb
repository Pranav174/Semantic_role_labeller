{
 "cells": [
  {
   "cell_type": "code",
   "execution_count": 103,
   "metadata": {},
   "outputs": [],
   "source": [
    "import pickle\n",
    "import numpy as np\n",
    "import pandas as pd\n",
    "from sklearn.preprocessing import LabelEncoder\n",
    "from sklearn.preprocessing import OneHotEncoder\n",
    "from keras.models import Sequential \n",
    "from keras.layers import Dense, Activation\n",
    "from sklearn.model_selection import train_test_split\n",
    "from tqdm import tqdm\n",
    "import tensorflow as tf\n",
    "import seaborn as sns\n",
    "import matplotlib.pyplot as plt\n",
    "from keras import backend as K\n"
   ]
  },
  {
   "cell_type": "code",
   "execution_count": 104,
   "metadata": {},
   "outputs": [],
   "source": [
    "Sentences = []\n",
    "with open(\"processed_data.dat\", \"rb\") as f:\n",
    "    Sentences = pickle.load(f)"
   ]
  },
  {
   "cell_type": "code",
   "execution_count": 105,
   "metadata": {},
   "outputs": [],
   "source": [
    "attributes = ['is_argument', 'arg_class', 'd_rel', 'phrase_type', 'predicate_pos']\n",
    "dt = pd.DataFrame(columns = attributes)"
   ]
  },
  {
   "cell_type": "code",
   "execution_count": 106,
   "metadata": {
    "scrolled": false
   },
   "outputs": [
    {
     "name": "stderr",
     "output_type": "stream",
     "text": [
      "100%|██████████| 6796/6796 [00:00<00:00, 38902.61it/s]\n"
     ]
    },
    {
     "data": {
      "text/html": [
       "<div>\n",
       "<style scoped>\n",
       "    .dataframe tbody tr th:only-of-type {\n",
       "        vertical-align: middle;\n",
       "    }\n",
       "\n",
       "    .dataframe tbody tr th {\n",
       "        vertical-align: top;\n",
       "    }\n",
       "\n",
       "    .dataframe thead th {\n",
       "        text-align: right;\n",
       "    }\n",
       "</style>\n",
       "<table border=\"1\" class=\"dataframe\">\n",
       "  <thead>\n",
       "    <tr style=\"text-align: right;\">\n",
       "      <th></th>\n",
       "      <th>is_argument</th>\n",
       "      <th>arg_class</th>\n",
       "      <th>d_rel</th>\n",
       "      <th>phrase_type</th>\n",
       "      <th>predicate_pos</th>\n",
       "    </tr>\n",
       "  </thead>\n",
       "  <tbody>\n",
       "    <tr>\n",
       "      <th>0</th>\n",
       "      <td>False</td>\n",
       "      <td>NaN</td>\n",
       "      <td>ccof</td>\n",
       "      <td>NP</td>\n",
       "      <td>0</td>\n",
       "    </tr>\n",
       "    <tr>\n",
       "      <th>1</th>\n",
       "      <td>True</td>\n",
       "      <td>ARG0-GOL</td>\n",
       "      <td>k4a</td>\n",
       "      <td>CCP</td>\n",
       "      <td>VGF</td>\n",
       "    </tr>\n",
       "    <tr>\n",
       "      <th>2</th>\n",
       "      <td>False</td>\n",
       "      <td>NaN</td>\n",
       "      <td>nmod</td>\n",
       "      <td>NP</td>\n",
       "      <td>0</td>\n",
       "    </tr>\n",
       "    <tr>\n",
       "      <th>3</th>\n",
       "      <td>False</td>\n",
       "      <td>NaN</td>\n",
       "      <td>ccof</td>\n",
       "      <td>NP</td>\n",
       "      <td>0</td>\n",
       "    </tr>\n",
       "    <tr>\n",
       "      <th>4</th>\n",
       "      <td>True</td>\n",
       "      <td>ARGM-TMP</td>\n",
       "      <td>k7t</td>\n",
       "      <td>NP</td>\n",
       "      <td>VGF</td>\n",
       "    </tr>\n",
       "    <tr>\n",
       "      <th>...</th>\n",
       "      <td>...</td>\n",
       "      <td>...</td>\n",
       "      <td>...</td>\n",
       "      <td>...</td>\n",
       "      <td>...</td>\n",
       "    </tr>\n",
       "    <tr>\n",
       "      <th>101561</th>\n",
       "      <td>False</td>\n",
       "      <td>NaN</td>\n",
       "      <td>pof</td>\n",
       "      <td>JJP</td>\n",
       "      <td>0</td>\n",
       "    </tr>\n",
       "    <tr>\n",
       "      <th>101562</th>\n",
       "      <td>False</td>\n",
       "      <td>NaN</td>\n",
       "      <td>r6</td>\n",
       "      <td>VGNN</td>\n",
       "      <td>0</td>\n",
       "    </tr>\n",
       "    <tr>\n",
       "      <th>101563</th>\n",
       "      <td>False</td>\n",
       "      <td>NaN</td>\n",
       "      <td>ccof</td>\n",
       "      <td>NP</td>\n",
       "      <td>0</td>\n",
       "    </tr>\n",
       "    <tr>\n",
       "      <th>101564</th>\n",
       "      <td>False</td>\n",
       "      <td>NaN</td>\n",
       "      <td>k1s</td>\n",
       "      <td>JJP</td>\n",
       "      <td>0</td>\n",
       "    </tr>\n",
       "    <tr>\n",
       "      <th>101565</th>\n",
       "      <td>False</td>\n",
       "      <td>NaN</td>\n",
       "      <td>ccof</td>\n",
       "      <td>VGF</td>\n",
       "      <td>0</td>\n",
       "    </tr>\n",
       "  </tbody>\n",
       "</table>\n",
       "<p>101566 rows × 5 columns</p>\n",
       "</div>"
      ],
      "text/plain": [
       "       is_argument arg_class d_rel phrase_type predicate_pos\n",
       "0            False       NaN  ccof          NP             0\n",
       "1             True  ARG0-GOL   k4a         CCP           VGF\n",
       "2            False       NaN  nmod          NP             0\n",
       "3            False       NaN  ccof          NP             0\n",
       "4             True  ARGM-TMP   k7t          NP           VGF\n",
       "...            ...       ...   ...         ...           ...\n",
       "101561       False       NaN   pof         JJP             0\n",
       "101562       False       NaN    r6        VGNN             0\n",
       "101563       False       NaN  ccof          NP             0\n",
       "101564       False       NaN   k1s         JJP             0\n",
       "101565       False       NaN  ccof         VGF             0\n",
       "\n",
       "[101566 rows x 5 columns]"
      ]
     },
     "execution_count": 106,
     "metadata": {},
     "output_type": "execute_result"
    }
   ],
   "source": [
    "all_data = {\n",
    "    'is_argument' : [],\n",
    "    'arg_class' : [],\n",
    "    'd_rel' : [],\n",
    "    'phrase_type' : [],\n",
    "    'predicate_pos' : []\n",
    "}\n",
    "for sentence in tqdm(Sentences):\n",
    "    for chunk in sentence.nodeList:\n",
    "#         print(chunk.__dict__)\n",
    "#         data_entry = dict()\n",
    "        if chunk.parentPB != '0':\n",
    "            all_data['is_argument'].append(True)\n",
    "            all_data['arg_class'].append(chunk.parentPBRelation)\n",
    "        else:\n",
    "            all_data['is_argument'].append(False)\n",
    "            all_data['arg_class'].append(np.NaN)\n",
    "        all_data['d_rel'].append(chunk.parentRelation)\n",
    "        all_data['phrase_type'].append(chunk.type)\n",
    "        all_data['predicate_pos'].append(chunk.parentPB)\n",
    "#         print(data_entry)\n",
    "dt = dt.append(pd.DataFrame(all_data))\n",
    "dt"
   ]
  },
  {
   "cell_type": "markdown",
   "metadata": {},
   "source": [
    "### Argument Identification"
   ]
  },
  {
   "cell_type": "code",
   "execution_count": 107,
   "metadata": {},
   "outputs": [
    {
     "name": "stdout",
     "output_type": "stream",
     "text": [
      "Train (81252, 2) (81252, 1)\n",
      "Test (20314, 2) (20314, 1)\n"
     ]
    }
   ],
   "source": [
    "dataset = dt.values\n",
    "X = dataset[:, 2:-1]\n",
    "y = dataset[:,0]\n",
    "X = X.astype(str)\n",
    "y = y.reshape((len(y), 1))\n",
    "\n",
    "X_train, X_test, y_train, y_test = train_test_split(X, y, test_size=0.2, random_state=1)\n",
    "print('Train', X_train.shape, y_train.shape)\n",
    "print('Test', X_test.shape, y_test.shape)"
   ]
  },
  {
   "cell_type": "code",
   "execution_count": 108,
   "metadata": {},
   "outputs": [
    {
     "name": "stdout",
     "output_type": "stream",
     "text": [
      "Train (81252, 88) (81252,)\n",
      "Test (20314, 88) (20314,)\n"
     ]
    },
    {
     "name": "stderr",
     "output_type": "stream",
     "text": [
      "/home/akshatcx/.virtualenvs/nlp/lib/python3.6/site-packages/sklearn/preprocessing/label.py:219: DataConversionWarning: A column-vector y was passed when a 1d array was expected. Please change the shape of y to (n_samples, ), for example using ravel().\n",
      "  y = column_or_1d(y, warn=True)\n",
      "/home/akshatcx/.virtualenvs/nlp/lib/python3.6/site-packages/sklearn/preprocessing/label.py:252: DataConversionWarning: A column-vector y was passed when a 1d array was expected. Please change the shape of y to (n_samples, ), for example using ravel().\n",
      "  y = column_or_1d(y, warn=True)\n"
     ]
    }
   ],
   "source": [
    "# prepare input data\n",
    "def prepare_inputs(X,X_train, X_test):\n",
    "    ohe = OneHotEncoder()\n",
    "    ohe.fit(X)\n",
    "    X_train_enc = ohe.transform(X_train)\n",
    "    X_test_enc = ohe.transform(X_test)\n",
    "    return X_train_enc, X_test_enc\n",
    " \n",
    "# prepare target\n",
    "def prepare_targets(y_train, y_test):\n",
    "    le = LabelEncoder()\n",
    "    le.fit(y_train)\n",
    "    y_train_enc = le.transform(y_train)\n",
    "    y_test_enc = le.transform(y_test)\n",
    "    return y_train_enc, y_test_enc\n",
    "\n",
    "X_train_enc, X_test_enc = prepare_inputs(X,X_train, X_test)\n",
    "y_train_enc, y_test_enc = prepare_targets(y_train, y_test)\n",
    "print('Train', X_train_enc.shape, y_train_enc.shape)\n",
    "print('Test', X_test_enc.shape, y_test_enc.shape)"
   ]
  },
  {
   "cell_type": "code",
   "execution_count": 109,
   "metadata": {
    "scrolled": true
   },
   "outputs": [
    {
     "name": "stdout",
     "output_type": "stream",
     "text": [
      "Epoch 1/15\n",
      " - 6s - loss: 0.4214 - accuracy: 0.7655\n",
      "Epoch 2/15\n",
      " - 5s - loss: 0.3992 - accuracy: 0.7787\n",
      "Epoch 3/15\n",
      " - 5s - loss: 0.3988 - accuracy: 0.7787\n",
      "Epoch 4/15\n",
      " - 5s - loss: 0.3985 - accuracy: 0.7788\n",
      "Epoch 5/15\n",
      " - 5s - loss: 0.3984 - accuracy: 0.7793\n",
      "Epoch 6/15\n",
      " - 5s - loss: 0.3983 - accuracy: 0.7795\n",
      "Epoch 7/15\n",
      " - 5s - loss: 0.3982 - accuracy: 0.7790\n",
      "Epoch 8/15\n",
      " - 6s - loss: 0.3981 - accuracy: 0.7793\n",
      "Epoch 9/15\n",
      " - 5s - loss: 0.3981 - accuracy: 0.7791\n",
      "Epoch 10/15\n",
      " - 5s - loss: 0.3980 - accuracy: 0.7794\n",
      "Epoch 11/15\n",
      " - 5s - loss: 0.3978 - accuracy: 0.7793\n",
      "Epoch 12/15\n",
      " - 5s - loss: 0.3980 - accuracy: 0.7787\n",
      "Epoch 13/15\n",
      " - 5s - loss: 0.3978 - accuracy: 0.7794\n",
      "Epoch 14/15\n",
      " - 5s - loss: 0.3977 - accuracy: 0.7790\n",
      "Epoch 15/15\n",
      " - 5s - loss: 0.3977 - accuracy: 0.7794\n",
      "Accuracy: 77.71\n",
      "Model: \"sequential_13\"\n",
      "_________________________________________________________________\n",
      "Layer (type)                 Output Shape              Param #   \n",
      "=================================================================\n",
      "dense_25 (Dense)             (None, 10)                890       \n",
      "_________________________________________________________________\n",
      "dense_26 (Dense)             (None, 1)                 11        \n",
      "=================================================================\n",
      "Total params: 901\n",
      "Trainable params: 901\n",
      "Non-trainable params: 0\n",
      "_________________________________________________________________\n",
      "None\n"
     ]
    }
   ],
   "source": [
    "# model = Sequential() \n",
    "# model.add(Dense(2, input_dim=input_dim, activation='softmax'))\n",
    "model = Sequential()\n",
    "model.add(Dense(10, input_dim=X_train_enc.shape[1], activation='relu', kernel_initializer='he_normal'))\n",
    "model.add(Dense(1, activation='sigmoid'))\n",
    "# compile the keras model\n",
    "model.compile(loss='binary_crossentropy', optimizer='adam', metrics=['accuracy'])\n",
    "# fit the keras model on the dataset\n",
    "model.fit(X_train_enc, y_train_enc, epochs=15, batch_size=16, verbose=2)\n",
    "# evaluate the keras model\n",
    "_, accuracy = model.evaluate(X_test_enc, y_test_enc, verbose=0)\n",
    "print('Accuracy: %.2f' % (accuracy*100))\n",
    "print(model.summary())"
   ]
  },
  {
   "cell_type": "markdown",
   "metadata": {},
   "source": [
    "### Semantic Role Classifier"
   ]
  },
  {
   "cell_type": "code",
   "execution_count": 86,
   "metadata": {},
   "outputs": [
    {
     "name": "stdout",
     "output_type": "stream",
     "text": [
      "Train (26360, 3) (26360, 1)\n",
      "Test (6591, 3) (6591, 1)\n"
     ]
    }
   ],
   "source": [
    "dt_arguments =  dt[dt['arg_class'].notnull()]\n",
    "dataset = dt_arguments.values\n",
    "X = dataset[:, 2:]\n",
    "y = dataset[:,1]\n",
    "X = X.astype(str)\n",
    "y = y.reshape((len(y), 1))\n",
    "\n",
    "X_train, X_test, y_train, y_test = train_test_split(X, y, test_size=0.2, random_state=1)\n",
    "print('Train', X_train.shape, y_train.shape)\n",
    "print('Test', X_test.shape, y_test.shape)"
   ]
  },
  {
   "cell_type": "code",
   "execution_count": 87,
   "metadata": {},
   "outputs": [
    {
     "name": "stdout",
     "output_type": "stream",
     "text": [
      "Train (26360, 137) (26360, 22)\n",
      "Test (6591, 137) (6591, 22)\n"
     ]
    }
   ],
   "source": [
    "X_train_enc, X_test_enc = prepare_inputs(X,X_train, X_test)\n",
    "y_train_enc, y_test_enc = prepare_inputs(y,y_train, y_test)\n",
    "print('Train', X_train_enc.shape, y_train_enc.shape)\n",
    "print('Test', X_test_enc.shape, y_test_enc.shape)"
   ]
  },
  {
   "cell_type": "code",
   "execution_count": 88,
   "metadata": {},
   "outputs": [],
   "source": [
    "def recall_m(y_true, y_pred):\n",
    "    true_positives = K.sum(K.round(K.clip(y_true * y_pred, 0, 1)))\n",
    "    possible_positives = K.sum(K.round(K.clip(y_true, 0, 1)))\n",
    "    recall = true_positives / (possible_positives + K.epsilon())\n",
    "    return recall\n",
    "\n",
    "def precision_m(y_true, y_pred):\n",
    "    true_positives = K.sum(K.round(K.clip(y_true * y_pred, 0, 1)))\n",
    "    predicted_positives = K.sum(K.round(K.clip(y_pred, 0, 1)))\n",
    "    precision = true_positives / (predicted_positives + K.epsilon())\n",
    "    return precision\n",
    "\n",
    "def f1_m(y_true, y_pred):\n",
    "    precision = precision_m(y_true, y_pred)\n",
    "    recall = recall_m(y_true, y_pred)\n",
    "    return 2*((precision*recall)/(precision+recall+K.epsilon()))"
   ]
  },
  {
   "cell_type": "code",
   "execution_count": 89,
   "metadata": {},
   "outputs": [
    {
     "name": "stdout",
     "output_type": "stream",
     "text": [
      "Epoch 1/20\n",
      " - 2s - loss: 1.3866 - accuracy: 0.6003 - recall_m: 0.3996 - f1_m: 0.4808 - precision_m: 0.7165\n",
      "Epoch 2/20\n",
      " - 2s - loss: 0.6873 - accuracy: 0.8086 - recall_m: 0.7630 - f1_m: 0.8020 - precision_m: 0.8495\n",
      "Epoch 3/20\n",
      " - 2s - loss: 0.6093 - accuracy: 0.8253 - recall_m: 0.7979 - f1_m: 0.8209 - precision_m: 0.8472\n",
      "Epoch 4/20\n",
      " - 2s - loss: 0.5820 - accuracy: 0.8287 - recall_m: 0.8030 - f1_m: 0.8247 - precision_m: 0.8495\n",
      "Epoch 5/20\n",
      " - 2s - loss: 0.5696 - accuracy: 0.8285 - recall_m: 0.8067 - f1_m: 0.8259 - precision_m: 0.8476\n",
      "Epoch 6/20\n",
      " - 2s - loss: 0.5626 - accuracy: 0.8296 - recall_m: 0.8091 - f1_m: 0.8278 - precision_m: 0.8490\n",
      "Epoch 7/20\n",
      " - 2s - loss: 0.5577 - accuracy: 0.8306 - recall_m: 0.8084 - f1_m: 0.8280 - precision_m: 0.8500\n",
      "Epoch 8/20\n",
      " - 2s - loss: 0.5539 - accuracy: 0.8313 - recall_m: 0.8098 - f1_m: 0.8286 - precision_m: 0.8498\n",
      "Epoch 9/20\n",
      " - 2s - loss: 0.5507 - accuracy: 0.8304 - recall_m: 0.8092 - f1_m: 0.8279 - precision_m: 0.8490\n",
      "Epoch 10/20\n",
      " - 2s - loss: 0.5486 - accuracy: 0.8302 - recall_m: 0.8115 - f1_m: 0.8289 - precision_m: 0.8486\n",
      "Epoch 11/20\n",
      " - 2s - loss: 0.5463 - accuracy: 0.8314 - recall_m: 0.8079 - f1_m: 0.8282 - precision_m: 0.8512\n",
      "Epoch 12/20\n",
      " - 2s - loss: 0.5450 - accuracy: 0.8309 - recall_m: 0.8110 - f1_m: 0.8291 - precision_m: 0.8493\n",
      "Epoch 13/20\n",
      " - 2s - loss: 0.5434 - accuracy: 0.8313 - recall_m: 0.8116 - f1_m: 0.8290 - precision_m: 0.8486\n",
      "Epoch 14/20\n",
      " - 2s - loss: 0.5418 - accuracy: 0.8314 - recall_m: 0.8100 - f1_m: 0.8281 - precision_m: 0.8486\n",
      "Epoch 15/20\n",
      " - 2s - loss: 0.5408 - accuracy: 0.8314 - recall_m: 0.8127 - f1_m: 0.8298 - precision_m: 0.8491\n",
      "Epoch 16/20\n",
      " - 2s - loss: 0.5399 - accuracy: 0.8318 - recall_m: 0.8129 - f1_m: 0.8296 - precision_m: 0.8484\n",
      "Epoch 17/20\n",
      " - 2s - loss: 0.5386 - accuracy: 0.8321 - recall_m: 0.8124 - f1_m: 0.8301 - precision_m: 0.8501\n",
      "Epoch 18/20\n",
      " - 2s - loss: 0.5375 - accuracy: 0.8325 - recall_m: 0.8119 - f1_m: 0.8293 - precision_m: 0.8489\n",
      "Epoch 19/20\n",
      " - 2s - loss: 0.5368 - accuracy: 0.8317 - recall_m: 0.8098 - f1_m: 0.8289 - precision_m: 0.8506\n",
      "Epoch 20/20\n",
      " - 2s - loss: 0.5361 - accuracy: 0.8318 - recall_m: 0.8124 - f1_m: 0.8300 - precision_m: 0.8499\n"
     ]
    },
    {
     "data": {
      "text/plain": [
       "<keras.callbacks.callbacks.History at 0x7fdadb1f4128>"
      ]
     },
     "execution_count": 89,
     "metadata": {},
     "output_type": "execute_result"
    }
   ],
   "source": [
    "model2 = Sequential()\n",
    "model2.add(Dense(10, input_dim=X_train_enc.shape[1], activation='relu', kernel_initializer='he_normal'))\n",
    "model2.add(Dense(y_train_enc.shape[1], activation='softmax'))\n",
    "# compile the keras model\n",
    "model2.compile(loss='categorical_crossentropy', optimizer='adam', metrics=['accuracy', recall_m, f1_m, precision_m])\n",
    "# fit the keras model on the dataset\n",
    "model2.fit(X_train_enc, y_train_enc, epochs=20, batch_size=16, verbose=2)"
   ]
  },
  {
   "cell_type": "markdown",
   "metadata": {},
   "source": [
    "## Results"
   ]
  },
  {
   "cell_type": "code",
   "execution_count": 90,
   "metadata": {},
   "outputs": [
    {
     "name": "stderr",
     "output_type": "stream",
     "text": [
      "/home/akshatcx/.virtualenvs/nlp/lib/python3.6/site-packages/sklearn/preprocessing/label.py:219: DataConversionWarning: A column-vector y was passed when a 1d array was expected. Please change the shape of y to (n_samples, ), for example using ravel().\n",
      "  y = column_or_1d(y, warn=True)\n",
      "/home/akshatcx/.virtualenvs/nlp/lib/python3.6/site-packages/sklearn/preprocessing/label.py:252: DataConversionWarning: A column-vector y was passed when a 1d array was expected. Please change the shape of y to (n_samples, ), for example using ravel().\n",
      "  y = column_or_1d(y, warn=True)\n"
     ]
    },
    {
     "name": "stdout",
     "output_type": "stream",
     "text": [
      "Confusion Matrix:\n"
     ]
    },
    {
     "data": {
      "image/png": "[encoded data removed]",
      "text/plain": [
       "<Figure size 1440x1080 with 2 Axes>"
      ]
     },
     "metadata": {},
     "output_type": "display_data"
    }
   ],
   "source": [
    "# Confusion Matrix\n",
    "\n",
    "y_pred_enc = model2.predict_classes(X_test_enc)\n",
    "\n",
    "le = LabelEncoder()\n",
    "le.fit(y_train)\n",
    "y_test_a = le.transform(y_test)\n",
    "labels = le.inverse_transform([i for i in range(21)])\n",
    "\n",
    "con_mat = tf.math.confusion_matrix(labels=y_test_a, predictions=y_pred_enc).numpy()\n",
    "\n",
    "plt.subplots(figsize=(20,15))\n",
    "sns.set()\n",
    "confusion_matrix = sns.heatmap(con_mat, annot=True, xticklabels=labels, yticklabels=labels, fmt='g')\n",
    "print(\"Confusion Matrix:\")\n"
   ]
  },
  {
   "cell_type": "code",
   "execution_count": 97,
   "metadata": {},
   "outputs": [
    {
     "name": "stdout",
     "output_type": "stream",
     "text": [
      "Scores:\n",
      "Accuracy: 0.829616129398346\n",
      "Precision: 0.8437967300415039\n",
      "Recall: 0.8199087977409363\n",
      "F1-score: 0.8314988017082214\n",
      "Loss: 0.5700723652665305\n",
      "\n",
      "Model: \"sequential_9\"\n",
      "_________________________________________________________________\n",
      "Layer (type)                 Output Shape              Param #   \n",
      "=================================================================\n",
      "dense_17 (Dense)             (None, 10)                1380      \n",
      "_________________________________________________________________\n",
      "dense_18 (Dense)             (None, 22)                242       \n",
      "=================================================================\n",
      "Total params: 1,622\n",
      "Trainable params: 1,622\n",
      "Non-trainable params: 0\n",
      "_________________________________________________________________\n",
      "None\n"
     ]
    }
   ],
   "source": [
    "loss, accuracy, recall, f1_score, precision = model2.evaluate(X_test_enc, y_test_enc, verbose=0)\n",
    "print(\"Scores:\")\n",
    "print(f\"Accuracy: {accuracy}\\nPrecision: {precision}\\nRecall: {recall}\\nF1-score: {f1_score}\\nLoss: {loss}\\n\")\n",
    "print(model2.summary())"
   ]
  },
  {
   "cell_type": "code",
   "execution_count": 92,
   "metadata": {},
   "outputs": [],
   "source": [
    "!mkdir -p saved_models\n",
    "model.save('saved_models/identification_model')\n",
    "model2.save('saved_models/classification_model')"
   ]
  }
 ],
 "metadata": {
  "kernelspec": {
   "display_name": "nlp",
   "language": "python",
   "name": "nlp"
  },
  "language_info": {
   "codemirror_mode": {
    "name": "ipython",
    "version": 3
   },
   "file_extension": ".py",
   "mimetype": "text/x-python",
   "name": "python",
   "nbconvert_exporter": "python",
   "pygments_lexer": "ipython3",
   "version": "3.6.10"
  }
 },
 "nbformat": 4,
 "nbformat_minor": 2
}
