{
 "cells": [
  {
   "cell_type": "code",
   "execution_count": 110,
   "metadata": {},
   "outputs": [],
   "source": [
    "import pickle\n",
    "import numpy as np\n",
    "import pandas as pd\n",
    "from sklearn.preprocessing import LabelEncoder\n",
    "from sklearn.preprocessing import OneHotEncoder\n",
    "from keras.models import Sequential \n",
    "from keras.layers import Dense, Activation\n",
    "from sklearn.model_selection import train_test_split\n",
    "from tqdm import tqdm\n",
    "import tensorflow as tf\n",
    "import seaborn as sns\n",
    "import matplotlib.pyplot as plt\n",
    "from keras import backend as K\n"
   ]
  },
  {
   "cell_type": "code",
   "execution_count": 111,
   "metadata": {},
   "outputs": [],
   "source": [
    "Sentences = []\n",
    "with open(\"processed_data.dat\", \"rb\") as f:\n",
    "    Sentences = pickle.load(f)"
   ]
  },
  {
   "cell_type": "code",
   "execution_count": 112,
   "metadata": {},
   "outputs": [],
   "source": [
    "attributes = ['is_argument', 'arg_class', 'd_rel', 'phrase_type', 'predicate_pos', 'drel_pos']\n",
    "dt = pd.DataFrame(columns = attributes)"
   ]
  },
  {
   "cell_type": "code",
   "execution_count": 115,
   "metadata": {
    "scrolled": false
   },
   "outputs": [
    {
     "name": "stderr",
     "output_type": "stream",
     "text": [
      "100%|██████████| 6796/6796 [00:00<00:00, 23230.46it/s]\n"
     ]
    },
    {
     "data": {
      "text/html": [
       "<div>\n",
       "<style scoped>\n",
       "    .dataframe tbody tr th:only-of-type {\n",
       "        vertical-align: middle;\n",
       "    }\n",
       "\n",
       "    .dataframe tbody tr th {\n",
       "        vertical-align: top;\n",
       "    }\n",
       "\n",
       "    .dataframe thead th {\n",
       "        text-align: right;\n",
       "    }\n",
       "</style>\n",
       "<table border=\"1\" class=\"dataframe\">\n",
       "  <thead>\n",
       "    <tr style=\"text-align: right;\">\n",
       "      <th></th>\n",
       "      <th>is_argument</th>\n",
       "      <th>arg_class</th>\n",
       "      <th>d_rel</th>\n",
       "      <th>phrase_type</th>\n",
       "      <th>predicate_pos</th>\n",
       "      <th>drel_pos</th>\n",
       "    </tr>\n",
       "  </thead>\n",
       "  <tbody>\n",
       "    <tr>\n",
       "      <th>0</th>\n",
       "      <td>False</td>\n",
       "      <td>NaN</td>\n",
       "      <td>ccof</td>\n",
       "      <td>NP</td>\n",
       "      <td>0</td>\n",
       "      <td>ccof:0</td>\n",
       "    </tr>\n",
       "    <tr>\n",
       "      <th>1</th>\n",
       "      <td>True</td>\n",
       "      <td>ARG0-GOL</td>\n",
       "      <td>k4a</td>\n",
       "      <td>CCP</td>\n",
       "      <td>VGF</td>\n",
       "      <td>k4a:VGF</td>\n",
       "    </tr>\n",
       "    <tr>\n",
       "      <th>2</th>\n",
       "      <td>False</td>\n",
       "      <td>NaN</td>\n",
       "      <td>nmod</td>\n",
       "      <td>NP</td>\n",
       "      <td>0</td>\n",
       "      <td>nmod:0</td>\n",
       "    </tr>\n",
       "    <tr>\n",
       "      <th>3</th>\n",
       "      <td>False</td>\n",
       "      <td>NaN</td>\n",
       "      <td>ccof</td>\n",
       "      <td>NP</td>\n",
       "      <td>0</td>\n",
       "      <td>ccof:0</td>\n",
       "    </tr>\n",
       "    <tr>\n",
       "      <th>4</th>\n",
       "      <td>True</td>\n",
       "      <td>ARGM-TMP</td>\n",
       "      <td>k7t</td>\n",
       "      <td>NP</td>\n",
       "      <td>VGF</td>\n",
       "      <td>k7t:VGF</td>\n",
       "    </tr>\n",
       "    <tr>\n",
       "      <th>...</th>\n",
       "      <td>...</td>\n",
       "      <td>...</td>\n",
       "      <td>...</td>\n",
       "      <td>...</td>\n",
       "      <td>...</td>\n",
       "      <td>...</td>\n",
       "    </tr>\n",
       "    <tr>\n",
       "      <th>101561</th>\n",
       "      <td>False</td>\n",
       "      <td>NaN</td>\n",
       "      <td>pof</td>\n",
       "      <td>JJP</td>\n",
       "      <td>0</td>\n",
       "      <td>pof:0</td>\n",
       "    </tr>\n",
       "    <tr>\n",
       "      <th>101562</th>\n",
       "      <td>False</td>\n",
       "      <td>NaN</td>\n",
       "      <td>r6</td>\n",
       "      <td>VGNN</td>\n",
       "      <td>0</td>\n",
       "      <td>r6:0</td>\n",
       "    </tr>\n",
       "    <tr>\n",
       "      <th>101563</th>\n",
       "      <td>False</td>\n",
       "      <td>NaN</td>\n",
       "      <td>ccof</td>\n",
       "      <td>NP</td>\n",
       "      <td>0</td>\n",
       "      <td>ccof:0</td>\n",
       "    </tr>\n",
       "    <tr>\n",
       "      <th>101564</th>\n",
       "      <td>False</td>\n",
       "      <td>NaN</td>\n",
       "      <td>k1s</td>\n",
       "      <td>JJP</td>\n",
       "      <td>0</td>\n",
       "      <td>k1s:0</td>\n",
       "    </tr>\n",
       "    <tr>\n",
       "      <th>101565</th>\n",
       "      <td>False</td>\n",
       "      <td>NaN</td>\n",
       "      <td>ccof</td>\n",
       "      <td>VGF</td>\n",
       "      <td>0</td>\n",
       "      <td>ccof:0</td>\n",
       "    </tr>\n",
       "  </tbody>\n",
       "</table>\n",
       "<p>101566 rows × 6 columns</p>\n",
       "</div>"
      ],
      "text/plain": [
       "       is_argument arg_class d_rel phrase_type predicate_pos drel_pos\n",
       "0            False       NaN  ccof          NP             0   ccof:0\n",
       "1             True  ARG0-GOL   k4a         CCP           VGF  k4a:VGF\n",
       "2            False       NaN  nmod          NP             0   nmod:0\n",
       "3            False       NaN  ccof          NP             0   ccof:0\n",
       "4             True  ARGM-TMP   k7t          NP           VGF  k7t:VGF\n",
       "...            ...       ...   ...         ...           ...      ...\n",
       "101561       False       NaN   pof         JJP             0    pof:0\n",
       "101562       False       NaN    r6        VGNN             0     r6:0\n",
       "101563       False       NaN  ccof          NP             0   ccof:0\n",
       "101564       False       NaN   k1s         JJP             0    k1s:0\n",
       "101565       False       NaN  ccof         VGF             0   ccof:0\n",
       "\n",
       "[101566 rows x 6 columns]"
      ]
     },
     "execution_count": 115,
     "metadata": {},
     "output_type": "execute_result"
    }
   ],
   "source": [
    "all_data = {\n",
    "    'is_argument' : [],\n",
    "    'arg_class' : [],\n",
    "    'd_rel' : [],\n",
    "    'phrase_type' : [],\n",
    "    'predicate_pos' : [],\n",
    "    'drel_pos': []\n",
    "}\n",
    "for sentence in tqdm(Sentences):\n",
    "    for chunk in sentence.nodeList:\n",
    "#         print(chunk.__dict__)\n",
    "#         data_entry = dict()\n",
    "        if chunk.parentPB != '0':\n",
    "            all_data['is_argument'].append(True)\n",
    "            all_data['arg_class'].append(chunk.parentPBRelation)\n",
    "        else:\n",
    "            all_data['is_argument'].append(False)\n",
    "            all_data['arg_class'].append(np.NaN)\n",
    "        all_data['d_rel'].append(chunk.parentRelation)\n",
    "        all_data['phrase_type'].append(chunk.type)\n",
    "        all_data['predicate_pos'].append(chunk.parentPB)\n",
    "        all_data['drel_pos'].append(f\"{chunk.parentRelation}:{chunk.parentPB}\")\n",
    "#         print(data_entry)\n",
    "dt = dt.append(pd.DataFrame(all_data))\n",
    "dt"
   ]
  },
  {
   "cell_type": "markdown",
   "metadata": {},
   "source": [
    "### Argument Identification"
   ]
  },
  {
   "cell_type": "code",
   "execution_count": 116,
   "metadata": {},
   "outputs": [
    {
     "name": "stdout",
     "output_type": "stream",
     "text": [
      "Train (81252, 3) (81252, 1)\n",
      "Test (20314, 3) (20314, 1)\n"
     ]
    }
   ],
   "source": [
    "dataset = dt.values\n",
    "X = dataset[:, 2:-1]\n",
    "y = dataset[:,0]\n",
    "X = X.astype(str)\n",
    "y = y.reshape((len(y), 1))\n",
    "\n",
    "X_train, X_test, y_train, y_test = train_test_split(X, y, test_size=0.2, random_state=1)\n",
    "print('Train', X_train.shape, y_train.shape)\n",
    "print('Test', X_test.shape, y_test.shape)"
   ]
  },
  {
   "cell_type": "code",
   "execution_count": 117,
   "metadata": {},
   "outputs": [
    {
     "name": "stdout",
     "output_type": "stream",
     "text": [
      "Train (81252, 156) (81252,)\n",
      "Test (20314, 156) (20314,)\n"
     ]
    },
    {
     "name": "stderr",
     "output_type": "stream",
     "text": [
      "/home/akshatcx/.virtualenvs/nlp/lib/python3.6/site-packages/sklearn/preprocessing/label.py:219: DataConversionWarning: A column-vector y was passed when a 1d array was expected. Please change the shape of y to (n_samples, ), for example using ravel().\n",
      "  y = column_or_1d(y, warn=True)\n",
      "/home/akshatcx/.virtualenvs/nlp/lib/python3.6/site-packages/sklearn/preprocessing/label.py:252: DataConversionWarning: A column-vector y was passed when a 1d array was expected. Please change the shape of y to (n_samples, ), for example using ravel().\n",
      "  y = column_or_1d(y, warn=True)\n"
     ]
    }
   ],
   "source": [
    "# prepare input data\n",
    "def prepare_inputs(X,X_train, X_test):\n",
    "    ohe = OneHotEncoder()\n",
    "    ohe.fit(X)\n",
    "    X_train_enc = ohe.transform(X_train)\n",
    "    X_test_enc = ohe.transform(X_test)\n",
    "    return X_train_enc, X_test_enc\n",
    " \n",
    "# prepare target\n",
    "def prepare_targets(y_train, y_test):\n",
    "    le = LabelEncoder()\n",
    "    le.fit(y_train)\n",
    "    y_train_enc = le.transform(y_train)\n",
    "    y_test_enc = le.transform(y_test)\n",
    "    return y_train_enc, y_test_enc\n",
    "\n",
    "X_train_enc, X_test_enc = prepare_inputs(X,X_train, X_test)\n",
    "y_train_enc, y_test_enc = prepare_targets(y_train, y_test)\n",
    "print('Train', X_train_enc.shape, y_train_enc.shape)\n",
    "print('Test', X_test_enc.shape, y_test_enc.shape)"
   ]
  },
  {
   "cell_type": "code",
   "execution_count": 118,
   "metadata": {
    "scrolled": true
   },
   "outputs": [
    {
     "name": "stdout",
     "output_type": "stream",
     "text": [
      "Epoch 1/15\n",
      " - 9s - loss: 0.0485 - accuracy: 0.9908\n",
      "Epoch 2/15\n",
      " - 6s - loss: 1.1978e-04 - accuracy: 1.0000\n",
      "Epoch 3/15\n",
      " - 5s - loss: 6.6009e-06 - accuracy: 1.0000\n",
      "Epoch 4/15\n",
      " - 10s - loss: 4.5664e-07 - accuracy: 1.0000\n",
      "Epoch 5/15\n",
      " - 6s - loss: 3.8092e-08 - accuracy: 1.0000\n",
      "Epoch 6/15\n",
      " - 5s - loss: 5.0266e-09 - accuracy: 1.0000\n",
      "Epoch 7/15\n",
      " - 11s - loss: 1.4709e-09 - accuracy: 1.0000\n",
      "Epoch 8/15\n",
      " - 5s - loss: 7.9022e-10 - accuracy: 1.0000\n",
      "Epoch 9/15\n",
      " - 7s - loss: 5.3575e-10 - accuracy: 1.0000\n",
      "Epoch 10/15\n",
      " - 9s - loss: 4.1203e-10 - accuracy: 1.0000\n",
      "Epoch 11/15\n",
      " - 7s - loss: 3.3145e-10 - accuracy: 1.0000\n",
      "Epoch 12/15\n",
      " - 11s - loss: 2.8543e-10 - accuracy: 1.0000\n",
      "Epoch 13/15\n",
      " - 6s - loss: 2.4444e-10 - accuracy: 1.0000\n",
      "Epoch 14/15\n",
      " - 5s - loss: 2.1567e-10 - accuracy: 1.0000\n",
      "Epoch 15/15\n",
      " - 10s - loss: 1.9539e-10 - accuracy: 1.0000\n",
      "Accuracy: 100.00\n",
      "Model: \"sequential_14\"\n",
      "_________________________________________________________________\n",
      "Layer (type)                 Output Shape              Param #   \n",
      "=================================================================\n",
      "dense_27 (Dense)             (None, 10)                1570      \n",
      "_________________________________________________________________\n",
      "dense_28 (Dense)             (None, 1)                 11        \n",
      "=================================================================\n",
      "Total params: 1,581\n",
      "Trainable params: 1,581\n",
      "Non-trainable params: 0\n",
      "_________________________________________________________________\n",
      "None\n"
     ]
    }
   ],
   "source": [
    "# model = Sequential() \n",
    "# model.add(Dense(2, input_dim=input_dim, activation='softmax'))\n",
    "model = Sequential()\n",
    "model.add(Dense(10, input_dim=X_train_enc.shape[1], activation='relu', kernel_initializer='he_normal'))\n",
    "model.add(Dense(1, activation='sigmoid'))\n",
    "# compile the keras model\n",
    "model.compile(loss='binary_crossentropy', optimizer='adam', metrics=['accuracy'])\n",
    "# fit the keras model on the dataset\n",
    "model.fit(X_train_enc, y_train_enc, epochs=15, batch_size=16, verbose=2)\n",
    "# evaluate the keras model\n",
    "_, accuracy = model.evaluate(X_test_enc, y_test_enc, verbose=0)\n",
    "print('Accuracy: %.2f' % (accuracy*100))\n",
    "print(model.summary())"
   ]
  },
  {
   "cell_type": "markdown",
   "metadata": {},
   "source": [
    "### Semantic Role Classifier"
   ]
  },
  {
   "cell_type": "code",
   "execution_count": 119,
   "metadata": {},
   "outputs": [
    {
     "name": "stdout",
     "output_type": "stream",
     "text": [
      "Train (26360, 4) (26360, 1)\n",
      "Test (6591, 4) (6591, 1)\n"
     ]
    }
   ],
   "source": [
    "dt_arguments =  dt[dt['arg_class'].notnull()]\n",
    "dataset = dt_arguments.values\n",
    "X = dataset[:, 2:]\n",
    "y = dataset[:,1]\n",
    "X = X.astype(str)\n",
    "y = y.reshape((len(y), 1))\n",
    "\n",
    "X_train, X_test, y_train, y_test = train_test_split(X, y, test_size=0.2, random_state=1)\n",
    "print('Train', X_train.shape, y_train.shape)\n",
    "print('Test', X_test.shape, y_test.shape)"
   ]
  },
  {
   "cell_type": "code",
   "execution_count": 120,
   "metadata": {},
   "outputs": [
    {
     "name": "stdout",
     "output_type": "stream",
     "text": [
      "Train (26360, 1192) (26360, 22)\n",
      "Test (6591, 1192) (6591, 22)\n"
     ]
    }
   ],
   "source": [
    "X_train_enc, X_test_enc = prepare_inputs(X,X_train, X_test)\n",
    "y_train_enc, y_test_enc = prepare_inputs(y,y_train, y_test)\n",
    "print('Train', X_train_enc.shape, y_train_enc.shape)\n",
    "print('Test', X_test_enc.shape, y_test_enc.shape)"
   ]
  },
  {
   "cell_type": "code",
   "execution_count": 121,
   "metadata": {},
   "outputs": [],
   "source": [
    "def recall_m(y_true, y_pred):\n",
    "    true_positives = K.sum(K.round(K.clip(y_true * y_pred, 0, 1)))\n",
    "    possible_positives = K.sum(K.round(K.clip(y_true, 0, 1)))\n",
    "    recall = true_positives / (possible_positives + K.epsilon())\n",
    "    return recall\n",
    "\n",
    "def precision_m(y_true, y_pred):\n",
    "    true_positives = K.sum(K.round(K.clip(y_true * y_pred, 0, 1)))\n",
    "    predicted_positives = K.sum(K.round(K.clip(y_pred, 0, 1)))\n",
    "    precision = true_positives / (predicted_positives + K.epsilon())\n",
    "    return precision\n",
    "\n",
    "def f1_m(y_true, y_pred):\n",
    "    precision = precision_m(y_true, y_pred)\n",
    "    recall = recall_m(y_true, y_pred)\n",
    "    return 2*((precision*recall)/(precision+recall+K.epsilon()))"
   ]
  },
  {
   "cell_type": "code",
   "execution_count": 122,
   "metadata": {},
   "outputs": [
    {
     "name": "stdout",
     "output_type": "stream",
     "text": [
      "Epoch 1/20\n",
      " - 2s - loss: 1.2027 - accuracy: 0.6663 - recall_m: 0.4849 - f1_m: 0.5743 - precision_m: 0.7712\n",
      "Epoch 2/20\n",
      " - 2s - loss: 0.6398 - accuracy: 0.8208 - recall_m: 0.7832 - f1_m: 0.8137 - precision_m: 0.8493\n",
      "Epoch 3/20\n",
      " - 2s - loss: 0.5833 - accuracy: 0.8248 - recall_m: 0.8040 - f1_m: 0.8250 - precision_m: 0.8489\n",
      "Epoch 4/20\n",
      " - 4s - loss: 0.5579 - accuracy: 0.8307 - recall_m: 0.8104 - f1_m: 0.8284 - precision_m: 0.8488\n",
      "Epoch 5/20\n",
      " - 4s - loss: 0.5419 - accuracy: 0.8320 - recall_m: 0.8138 - f1_m: 0.8312 - precision_m: 0.8508\n",
      "Epoch 6/20\n",
      " - 4s - loss: 0.5309 - accuracy: 0.8342 - recall_m: 0.8138 - f1_m: 0.8319 - precision_m: 0.8524\n",
      "Epoch 7/20\n",
      " - 2s - loss: 0.5232 - accuracy: 0.8353 - recall_m: 0.8167 - f1_m: 0.8336 - precision_m: 0.8526\n",
      "Epoch 8/20\n",
      " - 2s - loss: 0.5168 - accuracy: 0.8357 - recall_m: 0.8150 - f1_m: 0.8331 - precision_m: 0.8536\n",
      "Epoch 9/20\n",
      " - 2s - loss: 0.5121 - accuracy: 0.8372 - recall_m: 0.8181 - f1_m: 0.8347 - precision_m: 0.8532\n",
      "Epoch 10/20\n",
      " - 2s - loss: 0.5080 - accuracy: 0.8356 - recall_m: 0.8153 - f1_m: 0.8333 - precision_m: 0.8537\n",
      "Epoch 11/20\n",
      " - 4s - loss: 0.5046 - accuracy: 0.8367 - recall_m: 0.8170 - f1_m: 0.8336 - precision_m: 0.8524\n",
      "Epoch 12/20\n",
      " - 4s - loss: 0.5015 - accuracy: 0.8374 - recall_m: 0.8185 - f1_m: 0.8340 - precision_m: 0.8515\n",
      "Epoch 13/20\n",
      " - 4s - loss: 0.4993 - accuracy: 0.8383 - recall_m: 0.8197 - f1_m: 0.8355 - precision_m: 0.8532\n",
      "Epoch 14/20\n",
      " - 2s - loss: 0.4965 - accuracy: 0.8377 - recall_m: 0.8187 - f1_m: 0.8347 - precision_m: 0.8527\n",
      "Epoch 15/20\n",
      " - 2s - loss: 0.4944 - accuracy: 0.8387 - recall_m: 0.8200 - f1_m: 0.8355 - precision_m: 0.8528\n",
      "Epoch 16/20\n",
      " - 2s - loss: 0.4926 - accuracy: 0.8383 - recall_m: 0.8185 - f1_m: 0.8355 - precision_m: 0.8546\n",
      "Epoch 17/20\n",
      " - 2s - loss: 0.4910 - accuracy: 0.8392 - recall_m: 0.8211 - f1_m: 0.8364 - precision_m: 0.8535\n",
      "Epoch 18/20\n",
      " - 4s - loss: 0.4895 - accuracy: 0.8401 - recall_m: 0.8240 - f1_m: 0.8381 - precision_m: 0.8537\n",
      "Epoch 19/20\n",
      " - 4s - loss: 0.4880 - accuracy: 0.8379 - recall_m: 0.8201 - f1_m: 0.8360 - precision_m: 0.8539\n",
      "Epoch 20/20\n",
      " - 3s - loss: 0.4870 - accuracy: 0.8392 - recall_m: 0.8235 - f1_m: 0.8372 - precision_m: 0.8527\n"
     ]
    },
    {
     "data": {
      "text/plain": [
       "<keras.callbacks.callbacks.History at 0x7fda4673ef98>"
      ]
     },
     "execution_count": 122,
     "metadata": {},
     "output_type": "execute_result"
    }
   ],
   "source": [
    "model2 = Sequential()\n",
    "model2.add(Dense(10, input_dim=X_train_enc.shape[1], activation='relu', kernel_initializer='he_normal'))\n",
    "model2.add(Dense(y_train_enc.shape[1], activation='softmax'))\n",
    "# compile the keras model\n",
    "model2.compile(loss='categorical_crossentropy', optimizer='adam', metrics=['accuracy', recall_m, f1_m, precision_m])\n",
    "# fit the keras model on the dataset\n",
    "model2.fit(X_train_enc, y_train_enc, epochs=20, batch_size=16, verbose=2)"
   ]
  },
  {
   "cell_type": "markdown",
   "metadata": {},
   "source": [
    "## Results"
   ]
  },
  {
   "cell_type": "code",
   "execution_count": 123,
   "metadata": {},
   "outputs": [
    {
     "name": "stderr",
     "output_type": "stream",
     "text": [
      "/home/akshatcx/.virtualenvs/nlp/lib/python3.6/site-packages/sklearn/preprocessing/label.py:219: DataConversionWarning: A column-vector y was passed when a 1d array was expected. Please change the shape of y to (n_samples, ), for example using ravel().\n",
      "  y = column_or_1d(y, warn=True)\n",
      "/home/akshatcx/.virtualenvs/nlp/lib/python3.6/site-packages/sklearn/preprocessing/label.py:252: DataConversionWarning: A column-vector y was passed when a 1d array was expected. Please change the shape of y to (n_samples, ), for example using ravel().\n",
      "  y = column_or_1d(y, warn=True)\n"
     ]
    },
    {
     "name": "stdout",
     "output_type": "stream",
     "text": [
      "Confusion Matrix:\n"
     ]
    },
    {
     "data": {
      "image/png": "[encoded data removed]",
      "text/plain": [
       "<Figure size 1440x1080 with 2 Axes>"
      ]
     },
     "metadata": {},
     "output_type": "display_data"
    }
   ],
   "source": [
    "# Confusion Matrix\n",
    "\n",
    "y_pred_enc = model2.predict_classes(X_test_enc)\n",
    "\n",
    "le = LabelEncoder()\n",
    "le.fit(y_train)\n",
    "y_test_a = le.transform(y_test)\n",
    "labels = le.inverse_transform([i for i in range(21)])\n",
    "\n",
    "con_mat = tf.math.confusion_matrix(labels=y_test_a, predictions=y_pred_enc).numpy()\n",
    "\n",
    "plt.subplots(figsize=(20,15))\n",
    "sns.set()\n",
    "confusion_matrix = sns.heatmap(con_mat, annot=True, xticklabels=labels, yticklabels=labels, fmt='g')\n",
    "print(\"Confusion Matrix:\")\n"
   ]
  },
  {
   "cell_type": "code",
   "execution_count": 125,
   "metadata": {},
   "outputs": [
    {
     "name": "stdout",
     "output_type": "stream",
     "text": [
      "Scores:\n",
      "Accuracy: 0.8287057876586914\n",
      "Precision: 0.8617866039276123\n",
      "Recall: 0.7869901061058044\n",
      "F1-score: 0.8220494389533997\n",
      "Loss: 0.623884641993952\n",
      "\n",
      "Model: \"sequential_15\"\n",
      "_________________________________________________________________\n",
      "Layer (type)                 Output Shape              Param #   \n",
      "=================================================================\n",
      "dense_29 (Dense)             (None, 10)                11930     \n",
      "_________________________________________________________________\n",
      "dense_30 (Dense)             (None, 22)                242       \n",
      "=================================================================\n",
      "Total params: 12,172\n",
      "Trainable params: 12,172\n",
      "Non-trainable params: 0\n",
      "_________________________________________________________________\n",
      "None\n"
     ]
    }
   ],
   "source": [
    "loss, accuracy, recall, f1_score, precision = model2.evaluate(X_test_enc, y_test_enc, verbose=0)\n",
    "print(\"Scores:\")\n",
    "print(f\"Accuracy: {accuracy}\\nPrecision: {precision}\\nRecall: {recall}\\nF1-score: {f1_score}\\nLoss: {loss}\\n\")\n",
    "print(model2.summary())"
   ]
  },
  {
   "cell_type": "code",
   "execution_count": 126,
   "metadata": {},
   "outputs": [],
   "source": [
    "!mkdir -p saved_models\n",
    "model.save('saved_models/identification_model')\n",
    "model2.save('saved_models/classification_model')"
   ]
  },
  {
   "cell_type": "code",
   "execution_count": null,
   "metadata": {},
   "outputs": [],
   "source": []
  }
 ],
 "metadata": {
  "kernelspec": {
   "display_name": "nlp",
   "language": "python",
   "name": "nlp"
  },
  "language_info": {
   "codemirror_mode": {
    "name": "ipython",
    "version": 3
   },
   "file_extension": ".py",
   "mimetype": "text/x-python",
   "name": "python",
   "nbconvert_exporter": "python",
   "pygments_lexer": "ipython3",
   "version": "3.6.10"
  }
 },
 "nbformat": 4,
 "nbformat_minor": 2
}
